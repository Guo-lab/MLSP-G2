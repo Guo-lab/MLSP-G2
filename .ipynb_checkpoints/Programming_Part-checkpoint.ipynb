{
 "cells": [
  {
   "cell_type": "code",
   "execution_count": 21,
   "id": "0edd46e1",
   "metadata": {},
   "outputs": [],
   "source": [
    "import numpy as np\n",
    "import h5py\n",
    "from scipy.signal import butter, filtfilt, iirnotch"
   ]
  },
  {
   "cell_type": "markdown",
   "id": "c6e4356a",
   "metadata": {},
   "source": [
    "## Data Preprocess"
   ]
  },
  {
   "cell_type": "markdown",
   "id": "6345f6d9",
   "metadata": {},
   "source": [
    "### read .mat data"
   ]
  },
  {
   "cell_type": "code",
   "execution_count": 11,
   "id": "89f2ca1a",
   "metadata": {},
   "outputs": [
    {
     "name": "stdout",
     "output_type": "stream",
     "text": [
      "Keys: <KeysViewHDF5 ['grid_crds', 'out_mat']>\n",
      "Keys: <KeysViewHDF5 ['grid_crds', 'out_mat']>\n",
      "Keys: <KeysViewHDF5 ['grid_crds', 'out_mat']>\n"
     ]
    }
   ],
   "source": [
    "with h5py.File('./Dataset/increasingforce1.mat', 'r') as file:\n",
    "    # List all groups\n",
    "    print(\"Keys: %s\" % file.keys())\n",
    "    # Get the data\n",
    "    increase_grid_one = file['grid_crds'][()].T\n",
    "    increase_mat_one = file['out_mat'][()].T\n",
    "    \n",
    "with h5py.File('./Dataset/increasingforce2.mat', 'r') as file:\n",
    "    # List all groups\n",
    "    print(\"Keys: %s\" % file.keys())\n",
    "    # Get the data\n",
    "    increase_grid_two = file['grid_crds'][()].T\n",
    "    increase_mat_two = file['out_mat'][()].T\n",
    "    \n",
    "with h5py.File('./Dataset/steadyforce.mat', 'r') as file:\n",
    "    # List all groups\n",
    "    print(\"Keys: %s\" % file.keys())\n",
    "    # Get the data\n",
    "    steady_grid = file['grid_crds'][()].T\n",
    "    steady_mat = file['out_mat'][()].T"
   ]
  },
  {
   "cell_type": "markdown",
   "id": "9694004b",
   "metadata": {},
   "source": [
    "### filter out noise using filt_GRID"
   ]
  },
  {
   "cell_type": "code",
   "execution_count": 17,
   "id": "4e1371a3",
   "metadata": {},
   "outputs": [],
   "source": [
    "def butter_bandpass(lowcut, highcut, fs, order=5):\n",
    "    nyq = 0.5 * fs\n",
    "    b, a = butter(order, [lowcut/ nyq, highcut/ nyq], btype='band', analog=False)\n",
    "    return b, a\n",
    "def butter_bandpass_filter(data, lowcut, highcut, fs, order=5):\n",
    "    b, a = butter_bandpass(lowcut, highcut, fs, order=order)\n",
    "    y = filtfilt(b, a, data)\n",
    "    return y\n",
    "def notch(notch_freq, samp_freq, quality_factor=30):\n",
    "    b, a = iirnotch(notch_freq, quality_factor, samp_freq)\n",
    "    return b, a\n",
    "def notch_filter(data, notch_fs, fs, q=30):\n",
    "    b, a = notch(notch_fs, fs, q)\n",
    "    y = filtfilt(b, a, data)\n",
    "    return y\n",
    "def filt_GRID(data, lowcut=20, highcut=500, fs=4000, order=3, notch_fs = 50, notch_q = 30):\n",
    "    filt_out = np.zeros_like(data)\n",
    "    for i in range(data.shape[0]):\n",
    "        filt_out[i,:] = notch_filter(butter_bandpass_filter(data[i,:], lowcut, highcut, fs, order=order), notch_fs, fs, notch_q)\n",
    "    return filt_out"
   ]
  },
  {
   "cell_type": "code",
   "execution_count": 24,
   "id": "cfc4c9cb",
   "metadata": {},
   "outputs": [],
   "source": [
    "increase_mat_one = filt_GRID(increase_mat_one)\n",
    "increase_mat_two = filt_GRID(increase_mat_two)\n",
    "steady_mat = filt_GRID(steady_mat)"
   ]
  },
  {
   "cell_type": "code",
   "execution_count": 25,
   "id": "49503e53",
   "metadata": {},
   "outputs": [
    {
     "data": {
      "text/plain": [
       "(64, 73214)"
      ]
     },
     "execution_count": 25,
     "metadata": {},
     "output_type": "execute_result"
    }
   ],
   "source": [
    "steady_mat.shape"
   ]
  },
  {
   "cell_type": "code",
   "execution_count": 15,
   "id": "bdc03e1a",
   "metadata": {},
   "outputs": [
    {
     "data": {
      "text/plain": [
       "(64, 73214)"
      ]
     },
     "execution_count": 15,
     "metadata": {},
     "output_type": "execute_result"
    }
   ],
   "source": [
    "steady_mat.shape"
   ]
  },
  {
   "cell_type": "code",
   "execution_count": null,
   "id": "4c110d5b",
   "metadata": {},
   "outputs": [],
   "source": [
    "def detect_spikes(data):\n",
    "    # Implement spike detection logic\n",
    "    pass\n",
    "\n",
    "def sort_spikes(spikes):\n",
    "    # Implement spike sorting logic, potentially using clustering or PCA\n",
    "    pass\n",
    "\n",
    "def track_motor_units(sorted_spikes):\n",
    "    # Implement motor unit tracking logic\n",
    "    pass\n",
    "\n",
    "def motor_unit_decomposition(hdemg_data):\n",
    "    # Preprocess the data\n",
    "    filtered_data = filt_GRID(hdemg_data)\n",
    "    \n",
    "    # Detect spikes\n",
    "    spikes = detect_spikes(filtered_data)\n",
    "    \n",
    "    # Sort spikes into potential motor units\n",
    "    sorted_spikes = sort_spikes(spikes)\n",
    "    \n",
    "    # Track motor units across time and channels\n",
    "    motor_units = track_motor_units(sorted_spikes)\n",
    "    \n",
    "    # Validate and refine motor unit detection\n",
    "    validated_motor_units = validate_motor_units(motor_units)\n",
    "    \n",
    "    return validated_motor_units\n",
    "\n",
    "# Simulated or actual HDEMG data would be processed as follows:\n",
    "hdemg_data_array1 = # ... load data for array 1\n",
    "hdemg_data_array2 = # ... load data for array 2\n",
    "hdemg_data_array3 = # ... load data for array 3\n",
    "\n",
    "# Decompose motor units for each data array\n",
    "mus_array1 = motor_unit_decomposition(hdemg_data_array1)\n",
    "mus_array2 = motor_unit_decomposition(hdemg_data_array2)\n",
    "mus_array3 = motor_unit_decomposition(hdemg_data_array3)"
   ]
  }
 ],
 "metadata": {
  "kernelspec": {
   "display_name": "Python 3 (ipykernel)",
   "language": "python",
   "name": "python3"
  },
  "language_info": {
   "codemirror_mode": {
    "name": "ipython",
    "version": 3
   },
   "file_extension": ".py",
   "mimetype": "text/x-python",
   "name": "python",
   "nbconvert_exporter": "python",
   "pygments_lexer": "ipython3",
   "version": "3.11.4"
  }
 },
 "nbformat": 4,
 "nbformat_minor": 5
}
